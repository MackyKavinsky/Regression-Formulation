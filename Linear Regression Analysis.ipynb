{
 "cells": [
  {
   "cell_type": "markdown",
   "metadata": {},
   "source": [
    "## Regression Problem on Marketing Spending on platforms."
   ]
  },
  {
   "cell_type": "code",
   "execution_count": 3,
   "metadata": {},
   "outputs": [],
   "source": [
    "# Libraries \n",
    "import numpy as np\n",
    "import pandas as pd\n",
    "import matplotlib.pyplot as plt\n",
    "from sklearn import linear_model\n",
    "from sklearn.linear_model import LinearRegression\n",
    "# sklearn.linear_model.LinearRegression()\n",
    "# sklearn.linear_model.LinearRegression(fit_intercept=True, normalize=False, copy_X=True) this is the default parameters\n"
   ]
  },
  {
   "cell_type": "markdown",
   "metadata": {},
   "source": [
    "Objective: To find how much clicks that we could get based on the marketing spending?\n",
    "\n",
    "I'm trying to re-create the formula to fit with the industrial problem\n",
    "\n",
    "Y = mX1 + mX2 + mX3 + mX4 \n",
    "\n"
   ]
  },
  {
   "cell_type": "code",
   "execution_count": 4,
   "metadata": {},
   "outputs": [],
   "source": [
    "df = pd.read_excel(\"Ent_Sport.xlsx\") # Here can change to another xlsx file \n",
    "\n",
    "# df = pd.read_csv(\"xxx.csv\") # to read csv file"
   ]
  },
  {
   "cell_type": "code",
   "execution_count": 13,
   "metadata": {},
   "outputs": [
    {
     "data": {
      "text/plain": [
       "False"
      ]
     },
     "execution_count": 13,
     "metadata": {},
     "output_type": "execute_result"
    }
   ],
   "source": [
    "# Checking Missing value in columns.\n",
    "\n",
    "df['facebook_spend'].isnull().values.any() \n",
    "\n",
    "# To check if there is any null value inside"
   ]
  },
  {
   "cell_type": "code",
   "execution_count": 14,
   "metadata": {},
   "outputs": [
    {
     "data": {
      "text/html": [
       "<div>\n",
       "<style scoped>\n",
       "    .dataframe tbody tr th:only-of-type {\n",
       "        vertical-align: middle;\n",
       "    }\n",
       "\n",
       "    .dataframe tbody tr th {\n",
       "        vertical-align: top;\n",
       "    }\n",
       "\n",
       "    .dataframe thead th {\n",
       "        text-align: right;\n",
       "    }\n",
       "</style>\n",
       "<table border=\"1\" class=\"dataframe\">\n",
       "  <thead>\n",
       "    <tr style=\"text-align: right;\">\n",
       "      <th></th>\n",
       "      <th>day</th>\n",
       "      <th>start_date</th>\n",
       "      <th>facebook_spend</th>\n",
       "      <th>facebook_impressions</th>\n",
       "      <th>facebook_clicks</th>\n",
       "      <th>tiktok_spend</th>\n",
       "      <th>tiktok_impressions</th>\n",
       "      <th>tiktok_clicks</th>\n",
       "      <th>youtube_spend</th>\n",
       "      <th>youtube_impressions</th>\n",
       "      <th>youtube_clicks</th>\n",
       "      <th>google_sem_spend</th>\n",
       "      <th>google_sem_impressions</th>\n",
       "      <th>google_sem_clicks</th>\n",
       "      <th>google_uac_spend</th>\n",
       "      <th>google_uac_impressions</th>\n",
       "      <th>google_uac_installs</th>\n",
       "      <th>apple_search_spend</th>\n",
       "      <th>apple_search_impressions</th>\n",
       "      <th>apple_search_installs</th>\n",
       "    </tr>\n",
       "  </thead>\n",
       "  <tbody>\n",
       "    <tr>\n",
       "      <th>0</th>\n",
       "      <td>1</td>\n",
       "      <td>2021-11-01</td>\n",
       "      <td>403.03</td>\n",
       "      <td>64488</td>\n",
       "      <td>1267.0</td>\n",
       "      <td>0.0</td>\n",
       "      <td>0</td>\n",
       "      <td>0</td>\n",
       "      <td>0.0</td>\n",
       "      <td>0</td>\n",
       "      <td>0</td>\n",
       "      <td>5.40</td>\n",
       "      <td>69</td>\n",
       "      <td>5</td>\n",
       "      <td>6501.95</td>\n",
       "      <td>1812366</td>\n",
       "      <td>895</td>\n",
       "      <td>0</td>\n",
       "      <td>0</td>\n",
       "      <td>0.0</td>\n",
       "    </tr>\n",
       "    <tr>\n",
       "      <th>1</th>\n",
       "      <td>2</td>\n",
       "      <td>2021-11-02</td>\n",
       "      <td>386.07</td>\n",
       "      <td>59139</td>\n",
       "      <td>1351.0</td>\n",
       "      <td>0.0</td>\n",
       "      <td>0</td>\n",
       "      <td>0</td>\n",
       "      <td>0.0</td>\n",
       "      <td>0</td>\n",
       "      <td>0</td>\n",
       "      <td>0.00</td>\n",
       "      <td>3</td>\n",
       "      <td>0</td>\n",
       "      <td>529.98</td>\n",
       "      <td>106216</td>\n",
       "      <td>72</td>\n",
       "      <td>0</td>\n",
       "      <td>0</td>\n",
       "      <td>0.0</td>\n",
       "    </tr>\n",
       "    <tr>\n",
       "      <th>2</th>\n",
       "      <td>3</td>\n",
       "      <td>2021-11-03</td>\n",
       "      <td>390.96</td>\n",
       "      <td>56816</td>\n",
       "      <td>1408.0</td>\n",
       "      <td>0.0</td>\n",
       "      <td>0</td>\n",
       "      <td>0</td>\n",
       "      <td>0.0</td>\n",
       "      <td>0</td>\n",
       "      <td>0</td>\n",
       "      <td>196.49</td>\n",
       "      <td>980</td>\n",
       "      <td>83</td>\n",
       "      <td>12292.04</td>\n",
       "      <td>2883015</td>\n",
       "      <td>1864</td>\n",
       "      <td>0</td>\n",
       "      <td>0</td>\n",
       "      <td>0.0</td>\n",
       "    </tr>\n",
       "    <tr>\n",
       "      <th>3</th>\n",
       "      <td>4</td>\n",
       "      <td>2021-11-04</td>\n",
       "      <td>268.06</td>\n",
       "      <td>53728</td>\n",
       "      <td>892.0</td>\n",
       "      <td>0.0</td>\n",
       "      <td>0</td>\n",
       "      <td>0</td>\n",
       "      <td>0.0</td>\n",
       "      <td>0</td>\n",
       "      <td>0</td>\n",
       "      <td>1345.28</td>\n",
       "      <td>5881</td>\n",
       "      <td>633</td>\n",
       "      <td>6791.90</td>\n",
       "      <td>1196285</td>\n",
       "      <td>1302</td>\n",
       "      <td>0</td>\n",
       "      <td>0</td>\n",
       "      <td>0.0</td>\n",
       "    </tr>\n",
       "    <tr>\n",
       "      <th>4</th>\n",
       "      <td>5</td>\n",
       "      <td>2021-11-05</td>\n",
       "      <td>622.12</td>\n",
       "      <td>133965</td>\n",
       "      <td>1629.0</td>\n",
       "      <td>0.0</td>\n",
       "      <td>0</td>\n",
       "      <td>0</td>\n",
       "      <td>0.0</td>\n",
       "      <td>0</td>\n",
       "      <td>0</td>\n",
       "      <td>1034.88</td>\n",
       "      <td>4113</td>\n",
       "      <td>467</td>\n",
       "      <td>6640.48</td>\n",
       "      <td>1211114</td>\n",
       "      <td>1410</td>\n",
       "      <td>0</td>\n",
       "      <td>0</td>\n",
       "      <td>0.0</td>\n",
       "    </tr>\n",
       "  </tbody>\n",
       "</table>\n",
       "</div>"
      ],
      "text/plain": [
       "   day start_date  facebook_spend  facebook_impressions  facebook_clicks  \\\n",
       "0    1 2021-11-01          403.03                 64488           1267.0   \n",
       "1    2 2021-11-02          386.07                 59139           1351.0   \n",
       "2    3 2021-11-03          390.96                 56816           1408.0   \n",
       "3    4 2021-11-04          268.06                 53728            892.0   \n",
       "4    5 2021-11-05          622.12                133965           1629.0   \n",
       "\n",
       "   tiktok_spend  tiktok_impressions  tiktok_clicks  youtube_spend  \\\n",
       "0           0.0                   0              0            0.0   \n",
       "1           0.0                   0              0            0.0   \n",
       "2           0.0                   0              0            0.0   \n",
       "3           0.0                   0              0            0.0   \n",
       "4           0.0                   0              0            0.0   \n",
       "\n",
       "   youtube_impressions  youtube_clicks  google_sem_spend  \\\n",
       "0                    0               0              5.40   \n",
       "1                    0               0              0.00   \n",
       "2                    0               0            196.49   \n",
       "3                    0               0           1345.28   \n",
       "4                    0               0           1034.88   \n",
       "\n",
       "   google_sem_impressions  google_sem_clicks  google_uac_spend  \\\n",
       "0                      69                  5           6501.95   \n",
       "1                       3                  0            529.98   \n",
       "2                     980                 83          12292.04   \n",
       "3                    5881                633           6791.90   \n",
       "4                    4113                467           6640.48   \n",
       "\n",
       "   google_uac_impressions  google_uac_installs  apple_search_spend  \\\n",
       "0                 1812366                  895                   0   \n",
       "1                  106216                   72                   0   \n",
       "2                 2883015                 1864                   0   \n",
       "3                 1196285                 1302                   0   \n",
       "4                 1211114                 1410                   0   \n",
       "\n",
       "   apple_search_impressions  apple_search_installs  \n",
       "0                         0                    0.0  \n",
       "1                         0                    0.0  \n",
       "2                         0                    0.0  \n",
       "3                         0                    0.0  \n",
       "4                         0                    0.0  "
      ]
     },
     "execution_count": 14,
     "metadata": {},
     "output_type": "execute_result"
    }
   ],
   "source": [
    "# if there is missing value in the columns, can fill with either 0 or mean value as per needed. For this experiment it being filled with 0.\n",
    "\n",
    "df['facebook_clicks'] = df['facebook_clicks'].fillna(0) \n",
    "df.head() # to check the top 5 rows"
   ]
  },
  {
   "cell_type": "code",
   "execution_count": 15,
   "metadata": {},
   "outputs": [
    {
     "name": "stdout",
     "output_type": "stream",
     "text": [
      "0       1272.0\n",
      "1       1351.0\n",
      "2       1491.0\n",
      "3       1525.0\n",
      "4       2096.0\n",
      "        ...   \n",
      "146    24421.0\n",
      "147    18921.0\n",
      "148    77070.0\n",
      "149    84440.0\n",
      "150    83981.0\n",
      "Name: tot_clicks, Length: 151, dtype: float64\n"
     ]
    }
   ],
   "source": [
    "# Total Clicks == (Y-value)\n",
    "# We sum the clicks from across the social media platform\n",
    "\n",
    "df['tot_clicks'] = df['facebook_clicks'] + df['tiktok_clicks'] + df['youtube_clicks'] + df['google_sem_clicks']\n",
    "print(df['tot_clicks'])"
   ]
  },
  {
   "cell_type": "code",
   "execution_count": 16,
   "metadata": {},
   "outputs": [],
   "source": [
    "# Dependent and Independent Variable assignation \n",
    "\n",
    "X = df[['facebook_spend', 'tiktok_spend','youtube_spend', 'google_sem_spend']] # Independent Variable\n",
    "\n",
    "y = df['tot_clicks'] # Dependent Variable"
   ]
  },
  {
   "cell_type": "code",
   "execution_count": 17,
   "metadata": {},
   "outputs": [
    {
     "name": "stdout",
     "output_type": "stream",
     "text": [
      "0       1272.0\n",
      "1       1351.0\n",
      "2       1491.0\n",
      "3       1525.0\n",
      "4       2096.0\n",
      "        ...   \n",
      "146    24421.0\n",
      "147    18921.0\n",
      "148    77070.0\n",
      "149    84440.0\n",
      "150    83981.0\n",
      "Name: tot_clicks, Length: 151, dtype: float64\n"
     ]
    }
   ],
   "source": [
    "print(y)"
   ]
  },
  {
   "cell_type": "code",
   "execution_count": 18,
   "metadata": {},
   "outputs": [
    {
     "name": "stdout",
     "output_type": "stream",
     "text": [
      "     facebook_spend  tiktok_spend  youtube_spend  google_sem_spend\n",
      "0            403.03          0.00           0.00              5.40\n",
      "1            386.07          0.00           0.00              0.00\n",
      "2            390.96          0.00           0.00            196.49\n",
      "3            268.06          0.00           0.00           1345.28\n",
      "4            622.12          0.00           0.00           1034.88\n",
      "..              ...           ...            ...               ...\n",
      "146         4441.93        284.18         947.56           1133.40\n",
      "147         3525.88        272.92         249.36            944.18\n",
      "148         3417.44       2516.62         253.73            891.33\n",
      "149         3586.15       2626.13         256.48           1389.39\n",
      "150         5889.49       2153.83         260.57           1766.30\n",
      "\n",
      "[151 rows x 4 columns]\n"
     ]
    }
   ],
   "source": [
    "# Checking the x2 and x1 properties\n",
    "print(X)\n",
    "\n",
    "#print(df['tot_clicks'])"
   ]
  },
  {
   "cell_type": "code",
   "execution_count": 19,
   "metadata": {},
   "outputs": [
    {
     "name": "stdout",
     "output_type": "stream",
     "text": [
      "<class 'pandas.core.frame.DataFrame'>\n",
      "RangeIndex: 151 entries, 0 to 150\n",
      "Data columns (total 21 columns):\n",
      " #   Column                    Non-Null Count  Dtype         \n",
      "---  ------                    --------------  -----         \n",
      " 0   day                       151 non-null    int64         \n",
      " 1   start_date                151 non-null    datetime64[ns]\n",
      " 2   facebook_spend            151 non-null    float64       \n",
      " 3   facebook_impressions      151 non-null    int64         \n",
      " 4   facebook_clicks           151 non-null    float64       \n",
      " 5   tiktok_spend              151 non-null    float64       \n",
      " 6   tiktok_impressions        151 non-null    int64         \n",
      " 7   tiktok_clicks             151 non-null    int64         \n",
      " 8   youtube_spend             151 non-null    float64       \n",
      " 9   youtube_impressions       151 non-null    int64         \n",
      " 10  youtube_clicks            151 non-null    int64         \n",
      " 11  google_sem_spend          151 non-null    float64       \n",
      " 12  google_sem_impressions    151 non-null    int64         \n",
      " 13  google_sem_clicks         151 non-null    int64         \n",
      " 14  google_uac_spend          151 non-null    float64       \n",
      " 15  google_uac_impressions    151 non-null    int64         \n",
      " 16  google_uac_installs       151 non-null    int64         \n",
      " 17  apple_search_spend        151 non-null    int64         \n",
      " 18  apple_search_impressions  151 non-null    int64         \n",
      " 19  apple_search_installs     150 non-null    float64       \n",
      " 20  tot_clicks                151 non-null    float64       \n",
      "dtypes: datetime64[ns](1), float64(8), int64(12)\n",
      "memory usage: 24.9 KB\n"
     ]
    }
   ],
   "source": [
    "df.info() # To check the dataframe for column and data type"
   ]
  },
  {
   "cell_type": "code",
   "execution_count": 20,
   "metadata": {},
   "outputs": [
    {
     "data": {
      "text/html": [
       "<div>\n",
       "<style scoped>\n",
       "    .dataframe tbody tr th:only-of-type {\n",
       "        vertical-align: middle;\n",
       "    }\n",
       "\n",
       "    .dataframe tbody tr th {\n",
       "        vertical-align: top;\n",
       "    }\n",
       "\n",
       "    .dataframe thead th {\n",
       "        text-align: right;\n",
       "    }\n",
       "</style>\n",
       "<table border=\"1\" class=\"dataframe\">\n",
       "  <thead>\n",
       "    <tr style=\"text-align: right;\">\n",
       "      <th></th>\n",
       "      <th>tot_clicks</th>\n",
       "      <th>facebook_spend</th>\n",
       "      <th>tiktok_spend</th>\n",
       "      <th>youtube_spend</th>\n",
       "      <th>google_sem_spend</th>\n",
       "    </tr>\n",
       "  </thead>\n",
       "  <tbody>\n",
       "    <tr>\n",
       "      <th>146</th>\n",
       "      <td>24421.0</td>\n",
       "      <td>4441.93</td>\n",
       "      <td>284.18</td>\n",
       "      <td>947.56</td>\n",
       "      <td>1133.40</td>\n",
       "    </tr>\n",
       "    <tr>\n",
       "      <th>147</th>\n",
       "      <td>18921.0</td>\n",
       "      <td>3525.88</td>\n",
       "      <td>272.92</td>\n",
       "      <td>249.36</td>\n",
       "      <td>944.18</td>\n",
       "    </tr>\n",
       "    <tr>\n",
       "      <th>148</th>\n",
       "      <td>77070.0</td>\n",
       "      <td>3417.44</td>\n",
       "      <td>2516.62</td>\n",
       "      <td>253.73</td>\n",
       "      <td>891.33</td>\n",
       "    </tr>\n",
       "    <tr>\n",
       "      <th>149</th>\n",
       "      <td>84440.0</td>\n",
       "      <td>3586.15</td>\n",
       "      <td>2626.13</td>\n",
       "      <td>256.48</td>\n",
       "      <td>1389.39</td>\n",
       "    </tr>\n",
       "    <tr>\n",
       "      <th>150</th>\n",
       "      <td>83981.0</td>\n",
       "      <td>5889.49</td>\n",
       "      <td>2153.83</td>\n",
       "      <td>260.57</td>\n",
       "      <td>1766.30</td>\n",
       "    </tr>\n",
       "  </tbody>\n",
       "</table>\n",
       "</div>"
      ],
      "text/plain": [
       "     tot_clicks  facebook_spend  tiktok_spend  youtube_spend  google_sem_spend\n",
       "146     24421.0         4441.93        284.18         947.56           1133.40\n",
       "147     18921.0         3525.88        272.92         249.36            944.18\n",
       "148     77070.0         3417.44       2516.62         253.73            891.33\n",
       "149     84440.0         3586.15       2626.13         256.48           1389.39\n",
       "150     83981.0         5889.49       2153.83         260.57           1766.30"
      ]
     },
     "execution_count": 20,
     "metadata": {},
     "output_type": "execute_result"
    }
   ],
   "source": [
    "# Slicing down the dataframe to columns that we only needed.\n",
    "\n",
    "data = df[['tot_clicks', 'facebook_spend', 'tiktok_spend', 'youtube_spend', 'google_sem_spend']]\n",
    "data.tail()"
   ]
  },
  {
   "cell_type": "code",
   "execution_count": 21,
   "metadata": {},
   "outputs": [
    {
     "data": {
      "text/plain": [
       "LinearRegression()"
      ]
     },
     "execution_count": 21,
     "metadata": {},
     "output_type": "execute_result"
    }
   ],
   "source": [
    "# Train the model using Linear Regression\n",
    "\n",
    "model = linear_model.LinearRegression()\n",
    "model.fit(X,y) # Fitting model is like generalizes the machine learning model to similar data to that on which it was trained\n",
    "\n",
    "# X, y is the columns that we set for the dependent and independent variables."
   ]
  },
  {
   "cell_type": "code",
   "execution_count": 22,
   "metadata": {},
   "outputs": [
    {
     "name": "stdout",
     "output_type": "stream",
     "text": [
      "[ 2.43218098 25.56467814 -2.28443923  1.07489264]\n"
     ]
    }
   ],
   "source": [
    "print(model.coef_) # printing the weight of that rm1\n",
    "\n",
    "# The coefficient explained that if we want to increase by 1 clicks, the cost required for each of the platform will be MYR 2.4, MYR 25.5, MYR -2.2 , MYR 1"
   ]
  },
  {
   "cell_type": "markdown",
   "metadata": {},
   "source": [
    "## Prediction of Total Clicks Based on Spending\n",
    "\n",
    "### Since we have the model coefficient and regression object, we can predict Total Clicks (tot_clicks) values."
   ]
  },
  {
   "cell_type": "code",
   "execution_count": 23,
   "metadata": {},
   "outputs": [],
   "source": [
    "#predict the Total Clicks where the facebook_spending (1000) tiktok_spending (500) youtube_spend (500) google_sem_spending (500):\n",
    "predicted_clicks = model.predict([[1000, 500, 500, 500]])"
   ]
  },
  {
   "cell_type": "code",
   "execution_count": 25,
   "metadata": {},
   "outputs": [
    {
     "name": "stdout",
     "output_type": "stream",
     "text": [
      "Total clicks predicted:  [12566.54756502]\n"
     ]
    }
   ],
   "source": [
    "print(\"Total clicks predicted: \" , predicted_clicks) # Print "
   ]
  },
  {
   "cell_type": "code",
   "execution_count": 26,
   "metadata": {},
   "outputs": [
    {
     "name": "stdout",
     "output_type": "stream",
     "text": [
      "Total clicks predicted:  [10134.36658989]\n"
     ]
    }
   ],
   "source": [
    "#predict the Total Clicks where the facebook_spending (0) tiktok_spending (783) youtube_spend (0) google_sem_spending (624):\n",
    "predicted_clicks1 = model.predict([[0,500, 500, 500]])\n",
    "print(\"Total clicks predicted: \" ,predicted_clicks1)"
   ]
  }
 ],
 "metadata": {
  "kernelspec": {
   "display_name": "Python 3.9.7 ('base')",
   "language": "python",
   "name": "python3"
  },
  "language_info": {
   "codemirror_mode": {
    "name": "ipython",
    "version": 3
   },
   "file_extension": ".py",
   "mimetype": "text/x-python",
   "name": "python",
   "nbconvert_exporter": "python",
   "pygments_lexer": "ipython3",
   "version": "3.9.7"
  },
  "orig_nbformat": 4,
  "vscode": {
   "interpreter": {
    "hash": "473b90967a18117b45baa26091a2ac66c109cb9ee0f1aeba23e70e5b28ec9c56"
   }
  }
 },
 "nbformat": 4,
 "nbformat_minor": 2
}
